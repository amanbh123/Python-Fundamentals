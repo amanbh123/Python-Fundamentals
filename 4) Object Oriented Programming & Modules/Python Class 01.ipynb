{
 "cells": [
  {
   "cell_type": "markdown",
   "metadata": {},
   "source": [
    "### Object Oriented Programming\n",
    "- In all the programs we wrote till now, we have designed our program around functions i.e. blocks of statements which manipulate data. This is called procedure-oriented way of programming.\n",
    "\n",
    "\n",
    "- There is another way of organizing our program which is to combine data and functionality and wrap it inside something called an object. This is called object oriented programming paradigm.\n",
    "\n",
    "\n",
    "- Most of the time we can use procedural programming, but when writing large programs or have a problem that is better suited to this method, we can use object oriented programming techniques.\n",
    "\n",
    "\n",
    "- Classes and objects are two main aspects of object oriented programming. A class creates a new type where objects are instances of the class."
   ]
  },
  {
   "cell_type": "code",
   "execution_count": 1,
   "metadata": {},
   "outputs": [
    {
     "name": "stdout",
     "output_type": "stream",
     "text": [
      "True\n"
     ]
    }
   ],
   "source": [
    "# Everything in Python is an object\n",
    "a = 1\n",
    "print(isinstance(a, object))"
   ]
  },
  {
   "cell_type": "code",
   "execution_count": 2,
   "metadata": {},
   "outputs": [
    {
     "name": "stdout",
     "output_type": "stream",
     "text": [
      "True\n"
     ]
    }
   ],
   "source": [
    "a = \"aman\"\n",
    "print(isinstance(a, object))"
   ]
  },
  {
   "cell_type": "code",
   "execution_count": 3,
   "metadata": {},
   "outputs": [
    {
     "name": "stdout",
     "output_type": "stream",
     "text": [
      "True\n"
     ]
    }
   ],
   "source": [
    "print(isinstance(print, object))"
   ]
  },
  {
   "cell_type": "code",
   "execution_count": 4,
   "metadata": {},
   "outputs": [],
   "source": [
    "class A:\n",
    "    pass"
   ]
  },
  {
   "cell_type": "code",
   "execution_count": 5,
   "metadata": {},
   "outputs": [
    {
     "name": "stdout",
     "output_type": "stream",
     "text": [
      "True\n"
     ]
    }
   ],
   "source": [
    "a = A\n",
    "print(isinstance(a, object))"
   ]
  },
  {
   "cell_type": "code",
   "execution_count": 6,
   "metadata": {},
   "outputs": [
    {
     "name": "stdout",
     "output_type": "stream",
     "text": [
      "<__main__.Person object at 0x058E9640>\n"
     ]
    }
   ],
   "source": [
    "class Person:\n",
    "    pass\n",
    "\n",
    "p = Person()\n",
    "print(p)"
   ]
  },
  {
   "cell_type": "code",
   "execution_count": 7,
   "metadata": {},
   "outputs": [
    {
     "data": {
      "text/plain": [
       "'0x58e9640'"
      ]
     },
     "execution_count": 7,
     "metadata": {},
     "output_type": "execute_result"
    }
   ],
   "source": [
    "hex(id(p))"
   ]
  },
  {
   "cell_type": "markdown",
   "metadata": {},
   "source": [
    "### Class with a method\n",
    "- Class methods have only one specific difference from ordinary functions - they must have an extra first name that has to be added to the beginning of the parameter list.\n",
    "\n",
    "\n",
    "- We do not give a value for this parameter when we call the method, Python will provide it.\n",
    "\n",
    "\n",
    "- This particular variable refers to the object itself, and by convention, it is given the name self. "
   ]
  },
  {
   "cell_type": "code",
   "execution_count": 6,
   "metadata": {},
   "outputs": [
    {
     "name": "stdout",
     "output_type": "stream",
     "text": [
      "Hello, how are you Aman?\n",
      "Hello, how are you Aman?\n"
     ]
    }
   ],
   "source": [
    "class Person:\n",
    "    name = \"Aman\"\n",
    "    def say_hi(self):\n",
    "        print(\"Hello, how are you \" + self.name + \"?\")\n",
    "\n",
    "p = Person()\n",
    "p.say_hi()\n",
    "\n",
    "Person.say_hi(p)"
   ]
  },
  {
   "cell_type": "markdown",
   "metadata": {},
   "source": [
    "### The _ _init_ _ method"
   ]
  },
  {
   "cell_type": "code",
   "execution_count": 9,
   "metadata": {},
   "outputs": [
    {
     "name": "stdout",
     "output_type": "stream",
     "text": [
      "new object created\n",
      "Hello, how are you Aman?\n"
     ]
    }
   ],
   "source": [
    "class Person:\n",
    "    name = \"Aman\"\n",
    "#   not a constructor\n",
    "    def __init__(self):\n",
    "        print(\"new object created\")\n",
    "    \n",
    "    def say_hi(self):\n",
    "        print(\"Hello, how are you \" + self.name + \"?\")\n",
    "\n",
    "p = Person()\n",
    "p.say_hi()"
   ]
  },
  {
   "cell_type": "code",
   "execution_count": 10,
   "metadata": {},
   "outputs": [
    {
     "name": "stdout",
     "output_type": "stream",
     "text": [
      "new object created\n",
      "Hello, my name is Aman\n"
     ]
    }
   ],
   "source": [
    "class Person:\n",
    "    def __init__(self, name):\n",
    "        self.name = name\n",
    "        print(\"new object created\")\n",
    "    \n",
    "    def say_hi(self):\n",
    "        print(\"Hello, my name is \" + self.name)\n",
    "\n",
    "p = Person(\"Aman\")\n",
    "p.say_hi()"
   ]
  }
 ],
 "metadata": {
  "kernelspec": {
   "display_name": "Python 3",
   "language": "python",
   "name": "python3"
  },
  "language_info": {
   "codemirror_mode": {
    "name": "ipython",
    "version": 3
   },
   "file_extension": ".py",
   "mimetype": "text/x-python",
   "name": "python",
   "nbconvert_exporter": "python",
   "pygments_lexer": "ipython3",
   "version": "3.8.5"
  }
 },
 "nbformat": 4,
 "nbformat_minor": 4
}
